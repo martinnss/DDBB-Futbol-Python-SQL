{
 "cells": [
  {
   "attachments": {},
   "cell_type": "markdown",
   "metadata": {},
   "source": [
    "# Analisis de base de datos de fútbol"
   ]
  },
  {
   "cell_type": "code",
   "execution_count": 1,
   "metadata": {},
   "outputs": [],
   "source": [
    "#importar packages\n",
    "import sqlite3\n",
    "import pandas as pd\n",
    "import sqlalchemy\n",
    "import numpy as np\n",
    "import matplotlib.pyplot as plt\n",
    "import seaborn as sns\n",
    "pd.options.mode.chained_assignment = None  \n",
    "\n",
    "\n",
    "\n",
    "engine=sqlalchemy.create_engine(r'sqlite:///C:\\Users\\56945\\Downloads\\database.sqlite')"
   ]
  },
  {
   "attachments": {},
   "cell_type": "markdown",
   "metadata": {},
   "source": [
    "## 1) Toda la información para cada partido"
   ]
  },
  {
   "attachments": {},
   "cell_type": "markdown",
   "metadata": {},
   "source": [
    "Con la siguiente query, se puede obtener toda la información disponible para cada partido"
   ]
  },
  {
   "cell_type": "code",
   "execution_count": 2,
   "metadata": {},
   "outputs": [],
   "source": [
    "match=pd.read_sql(\n",
    "    \"\"\" \n",
    "    SELECT  a.*, b.name as country_name, c.name as league_name, d_h.team_long_name as home_team_name, d_a.team_long_name as away_team_name\n",
    "    FROM Match as a\n",
    "    LEFT JOIN Country as b on a.country_id=b.id\n",
    "    LEFT JOIN League as c on a.league_id=c.id\n",
    "    LEFT JOIN Team as d_h on a.home_team_api_id=d_h.team_api_id \n",
    "    LEFT JOIN Team as d_a on a.away_team_api_id=d_a.team_api_id \n",
    "    \"\"\"\n",
    "    , engine\n",
    ")"
   ]
  },
  {
   "cell_type": "code",
   "execution_count": 3,
   "metadata": {},
   "outputs": [
    {
     "data": {
      "text/html": [
       "<div>\n",
       "<style scoped>\n",
       "    .dataframe tbody tr th:only-of-type {\n",
       "        vertical-align: middle;\n",
       "    }\n",
       "\n",
       "    .dataframe tbody tr th {\n",
       "        vertical-align: top;\n",
       "    }\n",
       "\n",
       "    .dataframe thead th {\n",
       "        text-align: right;\n",
       "    }\n",
       "</style>\n",
       "<table border=\"1\" class=\"dataframe\">\n",
       "  <thead>\n",
       "    <tr style=\"text-align: right;\">\n",
       "      <th></th>\n",
       "      <th>id</th>\n",
       "      <th>country_id</th>\n",
       "      <th>league_id</th>\n",
       "      <th>season</th>\n",
       "      <th>stage</th>\n",
       "      <th>date</th>\n",
       "      <th>match_api_id</th>\n",
       "      <th>home_team_api_id</th>\n",
       "      <th>away_team_api_id</th>\n",
       "      <th>home_team_goal</th>\n",
       "      <th>...</th>\n",
       "      <th>GBH</th>\n",
       "      <th>GBD</th>\n",
       "      <th>GBA</th>\n",
       "      <th>BSH</th>\n",
       "      <th>BSD</th>\n",
       "      <th>BSA</th>\n",
       "      <th>country_name</th>\n",
       "      <th>league_name</th>\n",
       "      <th>home_team_name</th>\n",
       "      <th>away_team_name</th>\n",
       "    </tr>\n",
       "  </thead>\n",
       "  <tbody>\n",
       "    <tr>\n",
       "      <th>0</th>\n",
       "      <td>1</td>\n",
       "      <td>1</td>\n",
       "      <td>1</td>\n",
       "      <td>2008/2009</td>\n",
       "      <td>1</td>\n",
       "      <td>2008-08-17 00:00:00</td>\n",
       "      <td>492473</td>\n",
       "      <td>9987</td>\n",
       "      <td>9993</td>\n",
       "      <td>1</td>\n",
       "      <td>...</td>\n",
       "      <td>1.78</td>\n",
       "      <td>3.25</td>\n",
       "      <td>4.00</td>\n",
       "      <td>1.73</td>\n",
       "      <td>3.40</td>\n",
       "      <td>4.20</td>\n",
       "      <td>Belgium</td>\n",
       "      <td>Belgium Jupiler League</td>\n",
       "      <td>KRC Genk</td>\n",
       "      <td>Beerschot AC</td>\n",
       "    </tr>\n",
       "    <tr>\n",
       "      <th>1</th>\n",
       "      <td>2</td>\n",
       "      <td>1</td>\n",
       "      <td>1</td>\n",
       "      <td>2008/2009</td>\n",
       "      <td>1</td>\n",
       "      <td>2008-08-16 00:00:00</td>\n",
       "      <td>492474</td>\n",
       "      <td>10000</td>\n",
       "      <td>9994</td>\n",
       "      <td>0</td>\n",
       "      <td>...</td>\n",
       "      <td>1.85</td>\n",
       "      <td>3.25</td>\n",
       "      <td>3.75</td>\n",
       "      <td>1.91</td>\n",
       "      <td>3.25</td>\n",
       "      <td>3.60</td>\n",
       "      <td>Belgium</td>\n",
       "      <td>Belgium Jupiler League</td>\n",
       "      <td>SV Zulte-Waregem</td>\n",
       "      <td>Sporting Lokeren</td>\n",
       "    </tr>\n",
       "    <tr>\n",
       "      <th>2</th>\n",
       "      <td>3</td>\n",
       "      <td>1</td>\n",
       "      <td>1</td>\n",
       "      <td>2008/2009</td>\n",
       "      <td>1</td>\n",
       "      <td>2008-08-16 00:00:00</td>\n",
       "      <td>492475</td>\n",
       "      <td>9984</td>\n",
       "      <td>8635</td>\n",
       "      <td>0</td>\n",
       "      <td>...</td>\n",
       "      <td>2.50</td>\n",
       "      <td>3.20</td>\n",
       "      <td>2.50</td>\n",
       "      <td>2.30</td>\n",
       "      <td>3.20</td>\n",
       "      <td>2.75</td>\n",
       "      <td>Belgium</td>\n",
       "      <td>Belgium Jupiler League</td>\n",
       "      <td>KSV Cercle Brugge</td>\n",
       "      <td>RSC Anderlecht</td>\n",
       "    </tr>\n",
       "    <tr>\n",
       "      <th>3</th>\n",
       "      <td>4</td>\n",
       "      <td>1</td>\n",
       "      <td>1</td>\n",
       "      <td>2008/2009</td>\n",
       "      <td>1</td>\n",
       "      <td>2008-08-17 00:00:00</td>\n",
       "      <td>492476</td>\n",
       "      <td>9991</td>\n",
       "      <td>9998</td>\n",
       "      <td>5</td>\n",
       "      <td>...</td>\n",
       "      <td>1.50</td>\n",
       "      <td>3.75</td>\n",
       "      <td>5.50</td>\n",
       "      <td>1.44</td>\n",
       "      <td>3.75</td>\n",
       "      <td>6.50</td>\n",
       "      <td>Belgium</td>\n",
       "      <td>Belgium Jupiler League</td>\n",
       "      <td>KAA Gent</td>\n",
       "      <td>RAEC Mons</td>\n",
       "    </tr>\n",
       "    <tr>\n",
       "      <th>4</th>\n",
       "      <td>5</td>\n",
       "      <td>1</td>\n",
       "      <td>1</td>\n",
       "      <td>2008/2009</td>\n",
       "      <td>1</td>\n",
       "      <td>2008-08-16 00:00:00</td>\n",
       "      <td>492477</td>\n",
       "      <td>7947</td>\n",
       "      <td>9985</td>\n",
       "      <td>1</td>\n",
       "      <td>...</td>\n",
       "      <td>4.50</td>\n",
       "      <td>3.50</td>\n",
       "      <td>1.65</td>\n",
       "      <td>4.75</td>\n",
       "      <td>3.30</td>\n",
       "      <td>1.67</td>\n",
       "      <td>Belgium</td>\n",
       "      <td>Belgium Jupiler League</td>\n",
       "      <td>FCV Dender EH</td>\n",
       "      <td>Standard de Liège</td>\n",
       "    </tr>\n",
       "  </tbody>\n",
       "</table>\n",
       "<p>5 rows × 119 columns</p>\n",
       "</div>"
      ],
      "text/plain": [
       "   id  country_id  league_id     season  stage                 date  \\\n",
       "0   1           1          1  2008/2009      1  2008-08-17 00:00:00   \n",
       "1   2           1          1  2008/2009      1  2008-08-16 00:00:00   \n",
       "2   3           1          1  2008/2009      1  2008-08-16 00:00:00   \n",
       "3   4           1          1  2008/2009      1  2008-08-17 00:00:00   \n",
       "4   5           1          1  2008/2009      1  2008-08-16 00:00:00   \n",
       "\n",
       "   match_api_id  home_team_api_id  away_team_api_id  home_team_goal  ...  \\\n",
       "0        492473              9987              9993               1  ...   \n",
       "1        492474             10000              9994               0  ...   \n",
       "2        492475              9984              8635               0  ...   \n",
       "3        492476              9991              9998               5  ...   \n",
       "4        492477              7947              9985               1  ...   \n",
       "\n",
       "    GBH   GBD   GBA   BSH   BSD   BSA  country_name             league_name  \\\n",
       "0  1.78  3.25  4.00  1.73  3.40  4.20       Belgium  Belgium Jupiler League   \n",
       "1  1.85  3.25  3.75  1.91  3.25  3.60       Belgium  Belgium Jupiler League   \n",
       "2  2.50  3.20  2.50  2.30  3.20  2.75       Belgium  Belgium Jupiler League   \n",
       "3  1.50  3.75  5.50  1.44  3.75  6.50       Belgium  Belgium Jupiler League   \n",
       "4  4.50  3.50  1.65  4.75  3.30  1.67       Belgium  Belgium Jupiler League   \n",
       "\n",
       "      home_team_name     away_team_name  \n",
       "0           KRC Genk       Beerschot AC  \n",
       "1   SV Zulte-Waregem   Sporting Lokeren  \n",
       "2  KSV Cercle Brugge     RSC Anderlecht  \n",
       "3           KAA Gent          RAEC Mons  \n",
       "4      FCV Dender EH  Standard de Liège  \n",
       "\n",
       "[5 rows x 119 columns]"
      ]
     },
     "execution_count": 3,
     "metadata": {},
     "output_type": "execute_result"
    }
   ],
   "source": [
    "match.head()"
   ]
  },
  {
   "attachments": {},
   "cell_type": "markdown",
   "metadata": {},
   "source": [
    "Se observa que el dataframe llamado \"matches\", está compuesto por 26979 partidos unicos y 119 filas distintas"
   ]
  },
  {
   "attachments": {},
   "cell_type": "markdown",
   "metadata": {},
   "source": [
    "## 2) Insights la información detallada de cada partido\n",
    "Para poder realizar la busqueda de insights, se procede a limpiar el dataframe matches, esto con el objetivo de disminuir las 119 filas y dejar las que pueden ser más utiles para el análisis"
   ]
  },
  {
   "cell_type": "code",
   "execution_count": 4,
   "metadata": {},
   "outputs": [],
   "source": [
    "matches=match[['id','country_name','league_name','season','date','home_team_name','home_team_goal','away_team_name','away_team_goal']]\n",
    "matches['winner']= np.where( matches['home_team_goal']>matches['away_team_goal'],'home',\n",
    "                np.where(matches['home_team_goal']==matches['away_team_goal'],'tie',\n",
    "                np.where(matches['away_team_goal']>matches['home_team_goal'],'away','error')))\n",
    "matches['total_goals']=matches['home_team_goal']+matches['away_team_goal']\n",
    "\n",
    "\n"
   ]
  },
  {
   "attachments": {},
   "cell_type": "markdown",
   "metadata": {},
   "source": [
    "### 1. Locales vs Visitantes\n",
    "Se observa que del total de partidos, los equipos que jugaron de local ganaron casi la mitad de todos los encuentros:\n",
    "* Locales: 46%\n",
    "* Visitantes: 29%\n",
    "* Empates: 25%"
   ]
  },
  {
   "cell_type": "code",
   "execution_count": 5,
   "metadata": {},
   "outputs": [
    {
     "data": {
      "text/plain": [
       "winner\n",
       "away     7466\n",
       "home    11917\n",
       "tie      6596\n",
       "Name: id, dtype: int64"
      ]
     },
     "execution_count": 5,
     "metadata": {},
     "output_type": "execute_result"
    }
   ],
   "source": [
    "matches.groupby(by=\"winner\")['id'].count()"
   ]
  },
  {
   "attachments": {},
   "cell_type": "markdown",
   "metadata": {},
   "source": [
    "### 2. Goles por equipo y temporada\n",
    "Como se puede observar en la figura de a continuación, las temporadas tienen similares numeros de goles, pero se puede resumir de la siguiente manera:\n",
    "* Más goles: 2015/2016 con 9162 goles\n",
    "* Menos goles: 2013/2014 con 8389 goles"
   ]
  },
  {
   "cell_type": "code",
   "execution_count": 6,
   "metadata": {},
   "outputs": [
    {
     "data": {
      "text/html": [
       "<div>\n",
       "<style scoped>\n",
       "    .dataframe tbody tr th:only-of-type {\n",
       "        vertical-align: middle;\n",
       "    }\n",
       "\n",
       "    .dataframe tbody tr th {\n",
       "        vertical-align: top;\n",
       "    }\n",
       "\n",
       "    .dataframe thead th {\n",
       "        text-align: right;\n",
       "    }\n",
       "</style>\n",
       "<table border=\"1\" class=\"dataframe\">\n",
       "  <thead>\n",
       "    <tr style=\"text-align: right;\">\n",
       "      <th></th>\n",
       "      <th>home_team_goal</th>\n",
       "      <th>away_team_goal</th>\n",
       "      <th>total_goals</th>\n",
       "    </tr>\n",
       "    <tr>\n",
       "      <th>season</th>\n",
       "      <th></th>\n",
       "      <th></th>\n",
       "      <th></th>\n",
       "    </tr>\n",
       "  </thead>\n",
       "  <tbody>\n",
       "    <tr>\n",
       "      <th>2008/2009</th>\n",
       "      <td>5007</td>\n",
       "      <td>3665</td>\n",
       "      <td>8672</td>\n",
       "    </tr>\n",
       "    <tr>\n",
       "      <th>2009/2010</th>\n",
       "      <td>4978</td>\n",
       "      <td>3654</td>\n",
       "      <td>8632</td>\n",
       "    </tr>\n",
       "    <tr>\n",
       "      <th>2010/2011</th>\n",
       "      <td>5048</td>\n",
       "      <td>3701</td>\n",
       "      <td>8749</td>\n",
       "    </tr>\n",
       "    <tr>\n",
       "      <th>2011/2012</th>\n",
       "      <td>5064</td>\n",
       "      <td>3683</td>\n",
       "      <td>8747</td>\n",
       "    </tr>\n",
       "    <tr>\n",
       "      <th>2012/2013</th>\n",
       "      <td>5053</td>\n",
       "      <td>3986</td>\n",
       "      <td>9039</td>\n",
       "    </tr>\n",
       "    <tr>\n",
       "      <th>2013/2014</th>\n",
       "      <td>4787</td>\n",
       "      <td>3602</td>\n",
       "      <td>8389</td>\n",
       "    </tr>\n",
       "    <tr>\n",
       "      <th>2014/2015</th>\n",
       "      <td>5055</td>\n",
       "      <td>3842</td>\n",
       "      <td>8897</td>\n",
       "    </tr>\n",
       "    <tr>\n",
       "      <th>2015/2016</th>\n",
       "      <td>5135</td>\n",
       "      <td>4027</td>\n",
       "      <td>9162</td>\n",
       "    </tr>\n",
       "  </tbody>\n",
       "</table>\n",
       "</div>"
      ],
      "text/plain": [
       "           home_team_goal  away_team_goal  total_goals\n",
       "season                                                \n",
       "2008/2009            5007            3665         8672\n",
       "2009/2010            4978            3654         8632\n",
       "2010/2011            5048            3701         8749\n",
       "2011/2012            5064            3683         8747\n",
       "2012/2013            5053            3986         9039\n",
       "2013/2014            4787            3602         8389\n",
       "2014/2015            5055            3842         8897\n",
       "2015/2016            5135            4027         9162"
      ]
     },
     "execution_count": 6,
     "metadata": {},
     "output_type": "execute_result"
    }
   ],
   "source": [
    "matches.groupby('season')[['home_team_goal','away_team_goal','total_goals']].sum()"
   ]
  },
  {
   "cell_type": "code",
   "execution_count": 7,
   "metadata": {},
   "outputs": [
    {
     "data": {
      "image/png": "[encoded data removed]",
      "text/plain": [
       "<Figure size 1008x360 with 1 Axes>"
      ]
     },
     "metadata": {
      "needs_background": "light"
     },
     "output_type": "display_data"
    }
   ],
   "source": [
    "plt.figure(figsize=(14, 5))\n",
    "sns.barplot(y='total_goals',x='season',data=matches, estimator=sum, ci=None)\n",
    "plt.show()"
   ]
  },
  {
   "attachments": {},
   "cell_type": "markdown",
   "metadata": {},
   "source": [
    "### 3. Home or away?\n",
    "Se procede a crear un calculo para saber que tan bien juegan los equipos de local.\n",
    "\n",
    "\n",
    "Primero se observa a los 5 mejores equipos que juegan de local"
   ]
  },
  {
   "cell_type": "code",
   "execution_count": 8,
   "metadata": {},
   "outputs": [
    {
     "name": "stdout",
     "output_type": "stream",
     "text": [
      "home_team_name\n",
      "FC Barcelona        0.861842\n",
      "Real Madrid CF      0.848684\n",
      "SL Benfica          0.822581\n",
      "FC Porto            0.822581\n",
      "FC Bayern Munich    0.801471\n",
      "Name: winner_home, dtype: float64\n"
     ]
    }
   ],
   "source": [
    "matches['winner_home']=np.where(matches['winner']=='home', 1, 0)\n",
    "print(matches.groupby('home_team_name')['winner_home'].mean().sort_values( ascending=False).head())"
   ]
  },
  {
   "attachments": {},
   "cell_type": "markdown",
   "metadata": {},
   "source": [
    "Ahora, se presentan a los 5 peores equipos que jugan de local"
   ]
  },
  {
   "cell_type": "code",
   "execution_count": 9,
   "metadata": {},
   "outputs": [
    {
     "data": {
      "text/plain": [
       "home_team_name\n",
       "SpVgg Greuther Fürth    0.000000\n",
       "Córdoba CF              0.052632\n",
       "Dunfermline Athletic    0.052632\n",
       "AC Arles-Avignon        0.105263\n",
       "SV Darmstadt 98         0.117647\n",
       "Name: winner_home, dtype: float64"
      ]
     },
     "execution_count": 9,
     "metadata": {},
     "output_type": "execute_result"
    }
   ],
   "source": [
    "matches.groupby('home_team_name')['winner_home'].mean().sort_values().head()"
   ]
  },
  {
   "attachments": {},
   "cell_type": "markdown",
   "metadata": {},
   "source": [
    "### 4. Partidos por año\n",
    "Como se puede apreciar, todos los años se tiene una cantidad similar de partidos jugados, pero la temporada 2013/2014 tuvo una caída notoria.\n",
    "\n",
    "Se puede extrapolar que para el punto 2, donde se ven los goles por season, la temporada con menos goles es también la que posee una cantidad inferior de partidos"
   ]
  },
  {
   "cell_type": "code",
   "execution_count": 10,
   "metadata": {},
   "outputs": [
    {
     "data": {
      "image/png": "[encoded data removed]",
      "text/plain": [
       "<Figure size 1008x360 with 1 Axes>"
      ]
     },
     "metadata": {
      "needs_background": "light"
     },
     "output_type": "display_data"
    }
   ],
   "source": [
    "plt.figure(figsize=(14, 5))\n",
    "sns.countplot(x='season',data=matches)\n",
    "plt.show()"
   ]
  },
  {
   "attachments": {},
   "cell_type": "markdown",
   "metadata": {},
   "source": [
    "## 3) Información detallada por jugador (uno por fila)\n",
    "\n",
    "A continuación se entrega la mejor versión de cada jugador junto con sus respectivos atributos.\n"
   ]
  },
  {
   "cell_type": "code",
   "execution_count": 11,
   "metadata": {},
   "outputs": [],
   "source": [
    "players=pd.read_sql(\n",
    "    \"\"\" \n",
    "    SELECT a.*, b.player_name, b.height\n",
    "    FROM(\n",
    "        SELECT *, row_number()OVER(PARTITION BY player_api_id ORDER BY overall_rating DESC) as ranked\n",
    "        from Player_Attributes) as a\n",
    "    LEFT JOIN Player as b on b.player_api_id=a.player_api_id\n",
    "    WHERE ranked=1\n",
    "    \"\"\"\n",
    "    , engine\n",
    ")\n"
   ]
  },
  {
   "cell_type": "code",
   "execution_count": 12,
   "metadata": {},
   "outputs": [
    {
     "data": {
      "text/html": [
       "<div>\n",
       "<style scoped>\n",
       "    .dataframe tbody tr th:only-of-type {\n",
       "        vertical-align: middle;\n",
       "    }\n",
       "\n",
       "    .dataframe tbody tr th {\n",
       "        vertical-align: top;\n",
       "    }\n",
       "\n",
       "    .dataframe thead th {\n",
       "        text-align: right;\n",
       "    }\n",
       "</style>\n",
       "<table border=\"1\" class=\"dataframe\">\n",
       "  <thead>\n",
       "    <tr style=\"text-align: right;\">\n",
       "      <th></th>\n",
       "      <th>id</th>\n",
       "      <th>player_fifa_api_id</th>\n",
       "      <th>player_api_id</th>\n",
       "      <th>date</th>\n",
       "      <th>overall_rating</th>\n",
       "      <th>potential</th>\n",
       "      <th>preferred_foot</th>\n",
       "      <th>attacking_work_rate</th>\n",
       "      <th>defensive_work_rate</th>\n",
       "      <th>crossing</th>\n",
       "      <th>...</th>\n",
       "      <th>standing_tackle</th>\n",
       "      <th>sliding_tackle</th>\n",
       "      <th>gk_diving</th>\n",
       "      <th>gk_handling</th>\n",
       "      <th>gk_kicking</th>\n",
       "      <th>gk_positioning</th>\n",
       "      <th>gk_reflexes</th>\n",
       "      <th>ranked</th>\n",
       "      <th>player_name</th>\n",
       "      <th>height</th>\n",
       "    </tr>\n",
       "  </thead>\n",
       "  <tbody>\n",
       "    <tr>\n",
       "      <th>0</th>\n",
       "      <td>139856</td>\n",
       "      <td>148544</td>\n",
       "      <td>2625</td>\n",
       "      <td>2007-08-30 00:00:00</td>\n",
       "      <td>63</td>\n",
       "      <td>64</td>\n",
       "      <td>right</td>\n",
       "      <td>high</td>\n",
       "      <td>medium</td>\n",
       "      <td>48</td>\n",
       "      <td>...</td>\n",
       "      <td>66</td>\n",
       "      <td>63.0</td>\n",
       "      <td>14</td>\n",
       "      <td>24</td>\n",
       "      <td>67</td>\n",
       "      <td>24</td>\n",
       "      <td>24</td>\n",
       "      <td>1</td>\n",
       "      <td>Patryk Rachwal,18</td>\n",
       "      <td>175.26</td>\n",
       "    </tr>\n",
       "    <tr>\n",
       "      <th>1</th>\n",
       "      <td>44145</td>\n",
       "      <td>135819</td>\n",
       "      <td>2752</td>\n",
       "      <td>2015-10-16 00:00:00</td>\n",
       "      <td>72</td>\n",
       "      <td>72</td>\n",
       "      <td>right</td>\n",
       "      <td>medium</td>\n",
       "      <td>medium</td>\n",
       "      <td>39</td>\n",
       "      <td>...</td>\n",
       "      <td>74</td>\n",
       "      <td>67.0</td>\n",
       "      <td>12</td>\n",
       "      <td>7</td>\n",
       "      <td>8</td>\n",
       "      <td>10</td>\n",
       "      <td>16</td>\n",
       "      <td>1</td>\n",
       "      <td>Diego Mainz</td>\n",
       "      <td>187.96</td>\n",
       "    </tr>\n",
       "    <tr>\n",
       "      <th>2</th>\n",
       "      <td>88286</td>\n",
       "      <td>110019</td>\n",
       "      <td>2768</td>\n",
       "      <td>2016-03-03 00:00:00</td>\n",
       "      <td>75</td>\n",
       "      <td>75</td>\n",
       "      <td>left</td>\n",
       "      <td>medium</td>\n",
       "      <td>medium</td>\n",
       "      <td>44</td>\n",
       "      <td>...</td>\n",
       "      <td>77</td>\n",
       "      <td>79.0</td>\n",
       "      <td>12</td>\n",
       "      <td>15</td>\n",
       "      <td>13</td>\n",
       "      <td>14</td>\n",
       "      <td>10</td>\n",
       "      <td>1</td>\n",
       "      <td>Jose Dorado</td>\n",
       "      <td>180.34</td>\n",
       "    </tr>\n",
       "    <tr>\n",
       "      <th>3</th>\n",
       "      <td>72150</td>\n",
       "      <td>182861</td>\n",
       "      <td>2770</td>\n",
       "      <td>2011-02-22 00:00:00</td>\n",
       "      <td>74</td>\n",
       "      <td>81</td>\n",
       "      <td>left</td>\n",
       "      <td>medium</td>\n",
       "      <td>low</td>\n",
       "      <td>63</td>\n",
       "      <td>...</td>\n",
       "      <td>48</td>\n",
       "      <td>25.0</td>\n",
       "      <td>12</td>\n",
       "      <td>13</td>\n",
       "      <td>6</td>\n",
       "      <td>14</td>\n",
       "      <td>15</td>\n",
       "      <td>1</td>\n",
       "      <td>Ignacio Gonzalez</td>\n",
       "      <td>180.34</td>\n",
       "    </tr>\n",
       "    <tr>\n",
       "      <th>4</th>\n",
       "      <td>5123</td>\n",
       "      <td>110809</td>\n",
       "      <td>2790</td>\n",
       "      <td>2009-08-30 00:00:00</td>\n",
       "      <td>73</td>\n",
       "      <td>77</td>\n",
       "      <td>left</td>\n",
       "      <td>None</td>\n",
       "      <td>7</td>\n",
       "      <td>78</td>\n",
       "      <td>...</td>\n",
       "      <td>78</td>\n",
       "      <td>69.0</td>\n",
       "      <td>8</td>\n",
       "      <td>21</td>\n",
       "      <td>73</td>\n",
       "      <td>21</td>\n",
       "      <td>21</td>\n",
       "      <td>1</td>\n",
       "      <td>Alberto Rey</td>\n",
       "      <td>175.26</td>\n",
       "    </tr>\n",
       "  </tbody>\n",
       "</table>\n",
       "<p>5 rows × 45 columns</p>\n",
       "</div>"
      ],
      "text/plain": [
       "       id  player_fifa_api_id  player_api_id                 date  \\\n",
       "0  139856              148544           2625  2007-08-30 00:00:00   \n",
       "1   44145              135819           2752  2015-10-16 00:00:00   \n",
       "2   88286              110019           2768  2016-03-03 00:00:00   \n",
       "3   72150              182861           2770  2011-02-22 00:00:00   \n",
       "4    5123              110809           2790  2009-08-30 00:00:00   \n",
       "\n",
       "   overall_rating  potential preferred_foot attacking_work_rate  \\\n",
       "0              63         64          right                high   \n",
       "1              72         72          right              medium   \n",
       "2              75         75           left              medium   \n",
       "3              74         81           left              medium   \n",
       "4              73         77           left                None   \n",
       "\n",
       "  defensive_work_rate  crossing  ...  standing_tackle  sliding_tackle  \\\n",
       "0              medium        48  ...               66            63.0   \n",
       "1              medium        39  ...               74            67.0   \n",
       "2              medium        44  ...               77            79.0   \n",
       "3                 low        63  ...               48            25.0   \n",
       "4                   7        78  ...               78            69.0   \n",
       "\n",
       "   gk_diving  gk_handling  gk_kicking  gk_positioning  gk_reflexes  ranked  \\\n",
       "0         14           24          67              24           24       1   \n",
       "1         12            7           8              10           16       1   \n",
       "2         12           15          13              14           10       1   \n",
       "3         12           13           6              14           15       1   \n",
       "4          8           21          73              21           21       1   \n",
       "\n",
       "         player_name  height  \n",
       "0  Patryk Rachwal,18  175.26  \n",
       "1        Diego Mainz  187.96  \n",
       "2        Jose Dorado  180.34  \n",
       "3   Ignacio Gonzalez  180.34  \n",
       "4        Alberto Rey  175.26  \n",
       "\n",
       "[5 rows x 45 columns]"
      ]
     },
     "execution_count": 12,
     "metadata": {},
     "output_type": "execute_result"
    }
   ],
   "source": [
    "players.head()"
   ]
  },
  {
   "attachments": {},
   "cell_type": "markdown",
   "metadata": {},
   "source": [
    "### 4) Mejor equipo de la historia + Bonus"
   ]
  },
  {
   "attachments": {},
   "cell_type": "markdown",
   "metadata": {},
   "source": [
    " Para buscar al mejor equipo posible se realizó una investigación para obtener los atributos mas importantes para cada puesto en el campo (defensa, mediocampo y delanteros) y posteriormente se procede a realizar un promedio ponderado, este es asignando según la importancia para el puesto a jugar. Mientras que para los porteros, se obtiene el promedio de los atributos especiales para los goalkeepers"
   ]
  },
  {
   "cell_type": "code",
   "execution_count": null,
   "metadata": {},
   "outputs": [],
   "source": [
    "\n",
    "df=pd.read_sql(\n",
    "    \"\"\"\n",
    "    WITH best_season as (  \n",
    "    SELECT a.*, b.player_name, b.height\n",
    "    FROM(\n",
    "        SELECT *, row_number()OVER(PARTITION BY player_api_id ORDER BY overall_rating DESC) as ranked\n",
    "        from Player_Attributes) as a\n",
    "    LEFT JOIN Player as b on b.player_api_id=a.player_api_id\n",
    "    WHERE ranked=1)\n",
    "\t\n",
    "SELECT player_name, \n",
    "(0.1*acceleration+ 0.1*stamina+0.15*strength+0.05*standing_tackle+0.05*sliding_tackle+0.15*heading_accuracy+0.05*short_passing+0.05*long_passing+0.1*aggression+0.1*interceptions+0.1*marking)as rating_defenders,\n",
    "(0*09*stamina+0.09*agility+0.09*ball_control+0.05*acceleration+0.09*short_passing+0.09*long_passing+0.05*strength+0.05*dribbling+0.09*interceptions+0.09*sprint_speed+0.05*marking+0.05*jumping+0.12*vision) as rating_midfielders,\n",
    "(0.1*sprint_speed+0.05*acceleration+0.1*reactions+0.09*jumping+0.1*ball_control+0.1*heading_accuracy+0.05*positioning+0.1*penalties+0.15*shot_power+0.05*agility+0.05*strength+0.03*short_passing+0.03*long_passing) as rating_forwards,\n",
    "(gk_diving+gk_handling+gk_kicking+gk_positioning+gk_reflexes)/5 as rating_goalkeepers\n",
    "FROM best_season\n",
    "    \"\"\"\n",
    "    ,engine)"
   ]
  },
  {
   "attachments": {},
   "cell_type": "markdown",
   "metadata": {},
   "source": [
    "Según variados medios especialzidos en fútbol, la formación 2-4-4 existen 2 defensas, 4 mediocampistas y 4 delanteros, es una alineación que permite estar concentrado en el ataque al oponente.\n",
    "\n",
    "Entonces, se proceden a calcular los mejores jugadores para poder tener nuestro equipo perfecto"
   ]
  },
  {
   "cell_type": "code",
   "execution_count": null,
   "metadata": {},
   "outputs": [
    {
     "name": "stdout",
     "output_type": "stream",
     "text": [
      "            player_name    posicion\n",
      "3795     Gregory Coupet     arquero\n",
      "1849       Carles Puyol     defensa\n",
      "2692     Patrick Vieira     defensa\n",
      "1857     Michael Essien  mediocampo\n",
      "1887    Francesco Totti  mediocampo\n",
      "1834      Frank Lampard  mediocampo\n",
      "2565       Daniel Alves  mediocampo\n",
      "1979  Cristiano Ronaldo   delantero\n",
      "1953    Fernando Torres   delantero\n",
      "1931      Didier Drogba   delantero\n",
      "2441       Samuel Eto'o   delantero\n"
     ]
    }
   ],
   "source": [
    "arquero=df.sort_values('rating_goalkeepers', ascending=False).iloc[:1]\n",
    "arquero['posicion']='arquero'\n",
    "\n",
    "defensas=df.sort_values('rating_defenders', ascending=False).iloc[:2]\n",
    "defensas['posicion']='defensa'\n",
    "\n",
    "mediocampistas=df.sort_values('rating_midfielders', ascending=False).iloc[:4]\n",
    "mediocampistas['posicion']='mediocampo'\n",
    "\n",
    "delanteros=df.sort_values('rating_forwards', ascending=False).iloc[:4]\n",
    "delanteros['posicion']='delantero'\n",
    "\n",
    "\n",
    "mejor_equipo_historico=pd.concat([arquero,defensas,mediocampistas,delanteros])\n",
    "print(mejor_equipo_historico[['player_name','posicion']])"
   ]
  },
  {
   "attachments": {},
   "cell_type": "markdown",
   "metadata": {},
   "source": [
    "### Bonus: Peor equipo de la historia\n",
    "\n",
    "Algo a tener en cuenta es que las posiciones asignadas no son las que pertenecen al jugador, si no que serían las posiciones donde ese juagador es el menos cualificado. Por ejemplo, Darian MacKinnon no es arquero, pero posee las habilidades de goalkeeper más bajas de todos los jugadores dentro del dataset.\n",
    "\n",
    "Por lo tanto, este sería literalmente el peor equipo de la historia!"
   ]
  },
  {
   "cell_type": "code",
   "execution_count": null,
   "metadata": {},
   "outputs": [
    {
     "name": "stdout",
     "output_type": "stream",
     "text": [
      "            player_name    posicion\n",
      "9619   Darian MacKinnon     arquero\n",
      "9189            Rodrigo     defensa\n",
      "3887       Kevin Olimpa     defensa\n",
      "9175      Marc McCallum  mediocampo\n",
      "8761    Dziugas Bartkus  mediocampo\n",
      "7004       Ibrahim Kone  mediocampo\n",
      "8493      Connor Ripley  mediocampo\n",
      "10546      Aaron Lennox  mediocampo\n",
      "183        Dusan Pernis   delantero\n",
      "6907    Bruno Verissimo   delantero\n",
      "5370      Florian Bague   delantero\n"
     ]
    }
   ],
   "source": [
    "arquero=df.sort_values('rating_goalkeepers').iloc[:1]\n",
    "arquero['posicion']='arquero'\n",
    "\n",
    "defensas=df.sort_values('rating_defenders').iloc[:2]\n",
    "defensas['posicion']='defensa'\n",
    "\n",
    "mediocampistas=df.sort_values('rating_midfielders').iloc[:5]\n",
    "mediocampistas['posicion']='mediocampo'\n",
    "\n",
    "delanteros=df.sort_values('rating_forwards').iloc[:3]\n",
    "delanteros['posicion']='delantero'\n",
    "\n",
    "\n",
    "peor_equipo_historico=pd.concat([arquero,defensas,mediocampistas,delanteros])\n",
    "print(peor_equipo_historico[['player_name','posicion']])"
   ]
  }
 ],
 "metadata": {
  "kernelspec": {
   "display_name": "Python 3",
   "language": "python",
   "name": "python3"
  },
  "language_info": {
   "codemirror_mode": {
    "name": "ipython",
    "version": 3
   },
   "file_extension": ".py",
   "mimetype": "text/x-python",
   "name": "python",
   "nbconvert_exporter": "python",
   "pygments_lexer": "ipython3",
   "version": "3.9.6"
  },
  "orig_nbformat": 4,
  "vscode": {
   "interpreter": {
    "hash": "a83978288a9cc1a30680d6085268241b06d47b1234a9cc6952d6d3330a075d51"
   }
  }
 },
 "nbformat": 4,
 "nbformat_minor": 2
}
