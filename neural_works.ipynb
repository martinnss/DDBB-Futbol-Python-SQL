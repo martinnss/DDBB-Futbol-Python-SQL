{
 "cells": [
  {
   "cell_type": "code",
   "execution_count": 1,
   "metadata": {},
   "outputs": [],
   "source": [
    "import sqlite3\n",
    "import pandas as pd\n",
    "import sqlalchemy"
   ]
  },
  {
   "cell_type": "code",
   "execution_count": 2,
   "metadata": {},
   "outputs": [],
   "source": [
    "engine=sqlalchemy.create_engine(r'sqlite:///C:\\Users\\56945\\Downloads\\database.sqlite')"
   ]
  },
  {
   "cell_type": "code",
   "execution_count": 5,
   "metadata": {},
   "outputs": [],
   "source": [
    "# conexión realizada!\n",
    "df=pd.read_sql('SELECT * FROM Player_Attributes LIMIT 5',engine)"
   ]
  },
  {
   "cell_type": "code",
   "execution_count": 8,
   "metadata": {},
   "outputs": [
    {
     "data": {
      "text/plain": [
       "Index(['id', 'player_fifa_api_id', 'player_api_id', 'date', 'overall_rating',\n",
       "       'potential', 'preferred_foot', 'attacking_work_rate',\n",
       "       'defensive_work_rate', 'crossing', 'finishing', 'heading_accuracy',\n",
       "       'short_passing', 'volleys', 'dribbling', 'curve', 'free_kick_accuracy',\n",
       "       'long_passing', 'ball_control', 'acceleration', 'sprint_speed',\n",
       "       'agility', 'reactions', 'balance', 'shot_power', 'jumping', 'stamina',\n",
       "       'strength', 'long_shots', 'aggression', 'interceptions', 'positioning',\n",
       "       'vision', 'penalties', 'marking', 'standing_tackle', 'sliding_tackle',\n",
       "       'gk_diving', 'gk_handling', 'gk_kicking', 'gk_positioning',\n",
       "       'gk_reflexes'],\n",
       "      dtype='object')"
      ]
     },
     "execution_count": 8,
     "metadata": {},
     "output_type": "execute_result"
    }
   ],
   "source": [
    "\n",
    "df.columns\n",
    "\n",
    "#promedio ponderado con las cualidades\n",
    "#defensa\n",
    "#medianamente alto, acceleration y resistencia ,defensa alta, fuerza, ambos taclke, cabezaso, ambos pases mas importante el corto, agression, intercepciom, marca, 2 ambidiestos y o 2izaueirdo y 2 derecho\n",
    "#centro\n",
    "# resistencia, agilidad, control pelota, velocidad, pase largo y corto, fuerza, dribiling, intercepciones, stamina, marking, salto, visión\n",
    "# delantero\n",
    "# wen atque, velocidad, pique, acelracion , reaccion, salto, control baol, cabezaso, posicionamiento, penalties, shot_power, agilidad, fuerza, pase corto y largo, \n",
    "#portero\n",
    "#reacciomes, diving, marcaje, pie, mano (orden de importancia, solo esta cateroria esta ordewnada)\n",
    "defensas=[altura,]"
   ]
  },
  {
   "attachments": {},
   "cell_type": "markdown",
   "metadata": {},
   "source": [
    "# ocupar DB Browser for SQLite para hacer las queries de prueba y posteriormente conectarlas a un df con read_sql"
   ]
  }
 ],
 "metadata": {
  "kernelspec": {
   "display_name": "Python 3",
   "language": "python",
   "name": "python3"
  },
  "language_info": {
   "codemirror_mode": {
    "name": "ipython",
    "version": 3
   },
   "file_extension": ".py",
   "mimetype": "text/x-python",
   "name": "python",
   "nbconvert_exporter": "python",
   "pygments_lexer": "ipython3",
   "version": "3.9.6"
  },
  "orig_nbformat": 4,
  "vscode": {
   "interpreter": {
    "hash": "a83978288a9cc1a30680d6085268241b06d47b1234a9cc6952d6d3330a075d51"
   }
  }
 },
 "nbformat": 4,
 "nbformat_minor": 2
}
